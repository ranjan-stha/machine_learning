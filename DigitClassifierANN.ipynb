{
 "cells": [
  {
   "cell_type": "markdown",
   "metadata": {},
   "source": [
    "# MNIST Digit Classifier using Neural Networks"
   ]
  },
  {
   "cell_type": "code",
   "execution_count": null,
   "metadata": {},
   "outputs": [],
   "source": [
    "__author__ = 'rsh'"
   ]
  },
  {
   "cell_type": "code",
   "execution_count": null,
   "metadata": {},
   "outputs": [],
   "source": [
    "import torch\n",
    "import matplotlib.pyplot as plt\n",
    "%matplotlib inline"
   ]
  },
  {
   "cell_type": "code",
   "execution_count": null,
   "metadata": {},
   "outputs": [],
   "source": [
    "from torch import nn, optim"
   ]
  },
  {
   "cell_type": "code",
   "execution_count": null,
   "metadata": {},
   "outputs": [],
   "source": [
    "from torchvision import datasets, transforms"
   ]
  },
  {
   "cell_type": "code",
   "execution_count": null,
   "metadata": {},
   "outputs": [],
   "source": [
    "print (torch.__version__)"
   ]
  },
  {
   "cell_type": "code",
   "execution_count": null,
   "metadata": {},
   "outputs": [],
   "source": [
    "transform = transforms.Compose([transforms.ToTensor(),\n",
    "                               transforms.Normalize((0.5,), (0.5,),)])"
   ]
  },
  {
   "cell_type": "code",
   "execution_count": null,
   "metadata": {},
   "outputs": [],
   "source": [
    "traindata = datasets.MNIST('./MNIST', train=True, download=True, transform=transform)"
   ]
  },
  {
   "cell_type": "code",
   "execution_count": null,
   "metadata": {},
   "outputs": [],
   "source": [
    "testdata = datasets.MNIST('./MNIST', train=False, download=True, transform=transform)"
   ]
  },
  {
   "cell_type": "code",
   "execution_count": null,
   "metadata": {},
   "outputs": [],
   "source": [
    "len(traindata), len(testdata)"
   ]
  },
  {
   "cell_type": "code",
   "execution_count": null,
   "metadata": {},
   "outputs": [],
   "source": [
    "trainloader = torch.utils.data.DataLoader(traindata, shuffle=True, batch_size=64)\n",
    "testloader = torch.utils.data.DataLoader(testdata, shuffle=True, batch_size=64)"
   ]
  },
  {
   "cell_type": "code",
   "execution_count": null,
   "metadata": {},
   "outputs": [],
   "source": [
    "images, labels = next(iter(trainloader))"
   ]
  },
  {
   "cell_type": "code",
   "execution_count": null,
   "metadata": {},
   "outputs": [],
   "source": [
    "images.shape"
   ]
  },
  {
   "cell_type": "code",
   "execution_count": null,
   "metadata": {},
   "outputs": [],
   "source": [
    "plt.imshow(images[0].squeeze(), cmap='Greys_r')\n",
    "\n",
    "print ('The label is {}'.format(labels[0].item()))"
   ]
  },
  {
   "cell_type": "code",
   "execution_count": null,
   "metadata": {},
   "outputs": [],
   "source": [
    "class DigitClassifier(nn.Module):\n",
    "    def __init__(self,):\n",
    "        super(DigitClassifier, self).__init__()\n",
    "        self.linear1 = nn.Linear(784, 256)\n",
    "        self.linear2 = nn.Linear(256, 64)\n",
    "        self.linear3 = nn.Linear(64, 10)\n",
    "        \n",
    "        self.relu = nn.ReLU()\n",
    "        \n",
    "        self.dropout = nn.Dropout(p=0.20)\n",
    "        self.logsoftmax = nn.LogSoftmax(dim=1)\n",
    "    \n",
    "    def forward(self, input):\n",
    "        out = self.relu(self.linear1(input))\n",
    "        out = self.relu(self.linear2(self.dropout(out)))\n",
    "        out = self.logsoftmax(self.linear3(self.dropout(out)))\n",
    "        \n",
    "        return out"
   ]
  },
  {
   "cell_type": "code",
   "execution_count": null,
   "metadata": {},
   "outputs": [],
   "source": [
    "model = DigitClassifier()"
   ]
  },
  {
   "cell_type": "code",
   "execution_count": null,
   "metadata": {},
   "outputs": [],
   "source": [
    "criterion = nn.NLLLoss()"
   ]
  },
  {
   "cell_type": "code",
   "execution_count": null,
   "metadata": {},
   "outputs": [],
   "source": [
    "optimizer = optim.SGD(model.parameters(), lr=0.001)"
   ]
  },
  {
   "cell_type": "code",
   "execution_count": null,
   "metadata": {},
   "outputs": [],
   "source": [
    "def test_validation(model, test_data):\n",
    "    total = 0.\n",
    "    correct = 0.\n",
    "    test_loss = 0.\n",
    "    with torch.no_grad():\n",
    "        model.eval()\n",
    "        for images, labels in test_data:\n",
    "            images_size = images.shape[0]\n",
    "            images = images.view(images_size, -1)\n",
    "            pred = model(images)\n",
    "            test_loss += criterion(pred, labels).item()\n",
    "            value, pred_class = torch.max(pred, dim=1)\n",
    "            total += images_size\n",
    "            correct += torch.sum(pred_class == labels)\n",
    "    return float(correct * 100./total), test_loss/len(test_data)"
   ]
  },
  {
   "cell_type": "code",
   "execution_count": null,
   "metadata": {
    "scrolled": true
   },
   "outputs": [],
   "source": [
    "loss_array = []\n",
    "test_loss_array = []\n",
    "accuracy_array = []\n",
    "loss_val = 0\n",
    "epochs = 15\n",
    "\n",
    "# Training \n",
    "\n",
    "for i in range(epochs):\n",
    "    loss_val = 0\n",
    "    model.train()\n",
    "    for images, labels in trainloader:\n",
    "        images = images.view(images.shape[0], -1)\n",
    "        optimizer.zero_grad()\n",
    "        \n",
    "        output = model(images)\n",
    "        loss = criterion(output, labels)\n",
    "        \n",
    "        loss.backward()\n",
    "        \n",
    "        loss_val += loss.item()\n",
    "        \n",
    "        optimizer.step()\n",
    "    else:\n",
    "        accuracy, t_loss = test_validation(model, testloader)\n",
    "        accuracy_array.append(accuracy)\n",
    "        test_loss_array.append(t_loss)\n",
    "        print ('Loss at epoch {} is {}, accuracy: {}'.format(i+1, loss_val/len(trainloader), accuracy))\n",
    "        print ('Test Loss {}'.format(t_loss))\n",
    "        loss_array.append(loss_val/len(trainloader))"
   ]
  },
  {
   "cell_type": "code",
   "execution_count": null,
   "metadata": {},
   "outputs": [],
   "source": [
    "x_epochs = [i for i in range(epochs)]\n",
    "plt.plot(x_epochs, loss_array, label='Training Loss')\n",
    "plt.plot(x_epochs, test_loss_array, label='Testing/Validation Loss')\n",
    "plt.xlabel('Epochs')\n",
    "plt.ylabel('Loss')\n",
    "plt.legend()\n",
    "plt.show()"
   ]
  },
  {
   "cell_type": "code",
   "execution_count": null,
   "metadata": {},
   "outputs": [],
   "source": [
    "plt.plot([i for i in range(epochs)], accuracy_array)\n",
    "plt.xlabel('Epochs')\n",
    "plt.ylabel('Test Accuracy')\n",
    "plt.show()"
   ]
  },
  {
   "cell_type": "code",
   "execution_count": null,
   "metadata": {},
   "outputs": [],
   "source": [
    "# Testing on an image (index = 5; you can vary the index)\n",
    "test_images, test_label = next(iter(testloader))\n",
    "\n",
    "test_image = test_images.view(test_images.shape[0], -1)[5]\n",
    "\n",
    "# print (test_image.shape)\n",
    "\n",
    "# print (test_image.view(1, -1).shape)\n",
    "\n",
    "pred = model(test_image.view(1, -1))\n",
    "\n",
    "_, pred_class = torch.max(pred, dim=1)\n",
    "\n",
    "plt.imshow(test_images[5].squeeze(), cmap='Greys_r')\n",
    "\n",
    "print ('Predicted: {}'.format(pred_class.item()))\n",
    "\n",
    "print ('Actual: {}'.format(test_label[5]))\n"
   ]
  },
  {
   "cell_type": "code",
   "execution_count": null,
   "metadata": {},
   "outputs": [],
   "source": [
    "# weights and biases\n",
    "for param in model.parameters():\n",
    "    print (param.data)"
   ]
  },
  {
   "cell_type": "code",
   "execution_count": null,
   "metadata": {},
   "outputs": [],
   "source": []
  }
 ],
 "metadata": {
  "kernelspec": {
   "display_name": "Python (pytorch)",
   "language": "python",
   "name": "test_env"
  },
  "language_info": {
   "codemirror_mode": {
    "name": "ipython",
    "version": 3
   },
   "file_extension": ".py",
   "mimetype": "text/x-python",
   "name": "python",
   "nbconvert_exporter": "python",
   "pygments_lexer": "ipython3",
   "version": "3.7.6"
  }
 },
 "nbformat": 4,
 "nbformat_minor": 2
}
