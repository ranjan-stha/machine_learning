{
 "cells": [
  {
   "cell_type": "markdown",
   "metadata": {},
   "source": [
    "# MNIST Digit Classifier using Neural Networks"
   ]
  },
  {
   "cell_type": "code",
   "execution_count": 164,
   "metadata": {},
   "outputs": [],
   "source": [
    "__author__ = 'rsh'"
   ]
  },
  {
   "cell_type": "code",
   "execution_count": 165,
   "metadata": {},
   "outputs": [],
   "source": [
    "import torch\n",
    "import matplotlib.pyplot as plt\n",
    "%matplotlib inline"
   ]
  },
  {
   "cell_type": "code",
   "execution_count": 166,
   "metadata": {},
   "outputs": [],
   "source": [
    "from torch import nn, optim"
   ]
  },
  {
   "cell_type": "code",
   "execution_count": 167,
   "metadata": {},
   "outputs": [],
   "source": [
    "from torchvision import datasets, transforms"
   ]
  },
  {
   "cell_type": "code",
   "execution_count": 168,
   "metadata": {},
   "outputs": [
    {
     "name": "stdout",
     "output_type": "stream",
     "text": [
      "1.4.0\n"
     ]
    }
   ],
   "source": [
    "print (torch.__version__)"
   ]
  },
  {
   "cell_type": "code",
   "execution_count": 169,
   "metadata": {},
   "outputs": [],
   "source": [
    "transform = transforms.Compose([transforms.ToTensor(),\n",
    "                               transforms.Normalize((0.5,), (0.5,),)])"
   ]
  },
  {
   "cell_type": "code",
   "execution_count": 170,
   "metadata": {},
   "outputs": [],
   "source": [
    "traindata = datasets.MNIST('./MNIST', train=True, download=True, transform=transform)"
   ]
  },
  {
   "cell_type": "code",
   "execution_count": 171,
   "metadata": {},
   "outputs": [],
   "source": [
    "testdata = datasets.MNIST('./MNIST', train=False, download=True, transform=transform)"
   ]
  },
  {
   "cell_type": "code",
   "execution_count": 172,
   "metadata": {},
   "outputs": [
    {
     "data": {
      "text/plain": [
       "(60000, 10000)"
      ]
     },
     "execution_count": 172,
     "metadata": {},
     "output_type": "execute_result"
    }
   ],
   "source": [
    "len(traindata), len(testdata)"
   ]
  },
  {
   "cell_type": "code",
   "execution_count": 173,
   "metadata": {},
   "outputs": [],
   "source": [
    "trainloader = torch.utils.data.DataLoader(traindata, shuffle=True, batch_size=64)\n",
    "testloader = torch.utils.data.DataLoader(testdata, shuffle=True, batch_size=64)"
   ]
  },
  {
   "cell_type": "code",
   "execution_count": 174,
   "metadata": {},
   "outputs": [],
   "source": [
    "images, labels = next(iter(trainloader))"
   ]
  },
  {
   "cell_type": "code",
   "execution_count": 175,
   "metadata": {},
   "outputs": [
    {
     "data": {
      "text/plain": [
       "torch.Size([64, 1, 28, 28])"
      ]
     },
     "execution_count": 175,
     "metadata": {},
     "output_type": "execute_result"
    }
   ],
   "source": [
    "images.shape"
   ]
  },
  {
   "cell_type": "code",
   "execution_count": 176,
   "metadata": {},
   "outputs": [
    {
     "name": "stdout",
     "output_type": "stream",
     "text": [
      "The label is 3\n"
     ]
    },
    {
     "data": {
      "image/png": "[encoded data removed]",
      "text/plain": [
       "<Figure size 432x288 with 1 Axes>"
      ]
     },
     "metadata": {
      "needs_background": "light"
     },
     "output_type": "display_data"
    }
   ],
   "source": [
    "plt.imshow(images[0].squeeze(), cmap='Greys_r')\n",
    "\n",
    "print ('The label is {}'.format(labels[0].item()))"
   ]
  },
  {
   "cell_type": "code",
   "execution_count": 182,
   "metadata": {},
   "outputs": [],
   "source": [
    "class DigitClassifier(nn.Module):\n",
    "    def __init__(self,):\n",
    "        super(DigitClassifier, self).__init__()\n",
    "        self.linear1 = nn.Linear(784, 256)\n",
    "        self.linear2 = nn.Linear(256, 64)\n",
    "        self.linear3 = nn.Linear(64, 10)\n",
    "        \n",
    "        self.relu = nn.ReLU()\n",
    "        \n",
    "        self.dropout = nn.Dropout(p=0.20)\n",
    "        self.logsoftmax = nn.LogSoftmax(dim=1)\n",
    "    \n",
    "    def forward(self, input):\n",
    "        out = self.relu(self.linear1(input))\n",
    "        out = self.relu(self.linear2(self.dropout(out)))\n",
    "        out = self.logsoftmax(self.linear3(self.dropout(out)))\n",
    "        \n",
    "        return out"
   ]
  },
  {
   "cell_type": "code",
   "execution_count": 183,
   "metadata": {},
   "outputs": [],
   "source": [
    "model = DigitClassifier()"
   ]
  },
  {
   "cell_type": "code",
   "execution_count": 184,
   "metadata": {},
   "outputs": [],
   "source": [
    "criterion = nn.NLLLoss()"
   ]
  },
  {
   "cell_type": "code",
   "execution_count": 185,
   "metadata": {},
   "outputs": [],
   "source": [
    "optimizer = optim.SGD(model.parameters(), lr=0.001)"
   ]
  },
  {
   "cell_type": "code",
   "execution_count": 186,
   "metadata": {},
   "outputs": [],
   "source": [
    "def test_validation(model, test_data):\n",
    "    total = 0.\n",
    "    correct = 0.\n",
    "    test_loss = 0.\n",
    "    with torch.no_grad():\n",
    "        model.eval()\n",
    "        for images, labels in test_data:\n",
    "            images_size = images.shape[0]\n",
    "            images = images.view(images_size, -1)\n",
    "            pred = model(images)\n",
    "            test_loss += criterion(pred, labels).item()\n",
    "            value, pred_class = torch.max(pred, dim=1)\n",
    "            total += images_size\n",
    "            correct += torch.sum(pred_class == labels)\n",
    "    return float(correct * 100./total), test_loss/len(test_data)"
   ]
  },
  {
   "cell_type": "code",
   "execution_count": 187,
   "metadata": {
    "scrolled": true
   },
   "outputs": [
    {
     "name": "stdout",
     "output_type": "stream",
     "text": [
      "Loss at epoch 1 is 2.2342412771700797, accuracy: 44.810001373291016\n",
      "Test Loss 2.1300983899717876\n",
      "Loss at epoch 2 is 2.0119378095242513, accuracy: 61.2599983215332\n",
      "Test Loss 1.7988527436165294\n",
      "Loss at epoch 3 is 1.6404122834774986, accuracy: 71.29000091552734\n",
      "Test Loss 1.344251855923112\n",
      "Loss at epoch 4 is 1.2734376741751934, accuracy: 76.9000015258789\n",
      "Test Loss 0.9965301717922186\n",
      "Loss at epoch 5 is 1.022505689340868, accuracy: 80.47000122070312\n",
      "Test Loss 0.7910712103175509\n",
      "Loss at epoch 6 is 0.8678638159847463, accuracy: 82.69000244140625\n",
      "Test Loss 0.6693577151389638\n",
      "Loss at epoch 7 is 0.7745124799038555, accuracy: 84.1500015258789\n",
      "Test Loss 0.5943902582879279\n",
      "Loss at epoch 8 is 0.7083387647165673, accuracy: 85.33999633789062\n",
      "Test Loss 0.542528697639514\n",
      "Loss at epoch 9 is 0.6566814463784192, accuracy: 86.4000015258789\n",
      "Test Loss 0.5057600277244665\n",
      "Loss at epoch 10 is 0.6186877207588285, accuracy: 87.08000183105469\n",
      "Test Loss 0.47440422834104795\n",
      "Loss at epoch 11 is 0.5870248559060127, accuracy: 87.62999725341797\n",
      "Test Loss 0.4480154892061926\n",
      "Loss at epoch 12 is 0.5637932567994224, accuracy: 88.27999877929688\n",
      "Test Loss 0.4296986407535091\n",
      "Loss at epoch 13 is 0.5382795781532584, accuracy: 88.80999755859375\n",
      "Test Loss 0.41132376338266263\n",
      "Loss at epoch 14 is 0.5219544467132992, accuracy: 89.13999938964844\n",
      "Test Loss 0.3958812723304056\n",
      "Loss at epoch 15 is 0.5039452824638342, accuracy: 89.51000213623047\n",
      "Test Loss 0.3833728116598858\n"
     ]
    }
   ],
   "source": [
    "loss_array = []\n",
    "test_loss_array = []\n",
    "accuracy_array = []\n",
    "loss_val = 0\n",
    "epochs = 15\n",
    "\n",
    "# Training \n",
    "\n",
    "for i in range(epochs):\n",
    "    loss_val = 0\n",
    "    model.train()\n",
    "    for images, labels in trainloader:\n",
    "        images = images.view(images.shape[0], -1)\n",
    "        optimizer.zero_grad()\n",
    "        \n",
    "        output = model(images)\n",
    "        loss = criterion(output, labels)\n",
    "        \n",
    "        loss.backward()\n",
    "        \n",
    "        loss_val += loss.item()\n",
    "        \n",
    "        optimizer.step()\n",
    "    else:\n",
    "        accuracy, t_loss = test_validation(model, testloader)\n",
    "        accuracy_array.append(accuracy)\n",
    "        test_loss_array.append(t_loss)\n",
    "        print ('Loss at epoch {} is {}, accuracy: {}'.format(i+1, loss_val/len(trainloader), accuracy))\n",
    "        print ('Test Loss {}'.format(t_loss))\n",
    "        loss_array.append(loss_val/len(trainloader))"
   ]
  },
  {
   "cell_type": "code",
   "execution_count": 188,
   "metadata": {},
   "outputs": [
    {
     "data": {
      "image/png": "[encoded data removed]",
      "text/plain": [
       "<Figure size 432x288 with 1 Axes>"
      ]
     },
     "metadata": {
      "needs_background": "light"
     },
     "output_type": "display_data"
    }
   ],
   "source": [
    "x_epochs = [i for i in range(epochs)]\n",
    "plt.plot(x_epochs, loss_array, label='Training Loss')\n",
    "plt.plot(x_epochs, test_loss_array, label='Testing/Validation Loss')\n",
    "plt.xlabel('Epochs')\n",
    "plt.ylabel('Loss')\n",
    "plt.legend()\n",
    "plt.show()"
   ]
  },
  {
   "cell_type": "code",
   "execution_count": 189,
   "metadata": {},
   "outputs": [
    {
     "data": {
      "image/png": "[encoded data removed]",
      "text/plain": [
       "<Figure size 432x288 with 1 Axes>"
      ]
     },
     "metadata": {
      "needs_background": "light"
     },
     "output_type": "display_data"
    }
   ],
   "source": [
    "plt.plot([i for i in range(epochs)], accuracy_array)\n",
    "plt.xlabel('Epochs')\n",
    "plt.ylabel('Test Accuracy')\n",
    "plt.show()"
   ]
  },
  {
   "cell_type": "code",
   "execution_count": 190,
   "metadata": {},
   "outputs": [
    {
     "name": "stdout",
     "output_type": "stream",
     "text": [
      "Predicted: 6\n",
      "Actual: 6\n"
     ]
    },
    {
     "data": {
      "image/png": "[encoded data removed]",
      "text/plain": [
       "<Figure size 432x288 with 1 Axes>"
      ]
     },
     "metadata": {
      "needs_background": "light"
     },
     "output_type": "display_data"
    }
   ],
   "source": [
    "# Testing on an image (index = 5; you can vary the index)\n",
    "test_images, test_label = next(iter(testloader))\n",
    "\n",
    "test_image = test_images.view(test_images.shape[0], -1)[5]\n",
    "\n",
    "# print (test_image.shape)\n",
    "\n",
    "# print (test_image.view(1, -1).shape)\n",
    "\n",
    "pred = model(test_image.view(1, -1))\n",
    "\n",
    "_, pred_class = torch.max(pred, dim=1)\n",
    "\n",
    "plt.imshow(test_images[5].squeeze(), cmap='Greys_r')\n",
    "\n",
    "print ('Predicted: {}'.format(pred_class.item()))\n",
    "\n",
    "print ('Actual: {}'.format(test_label[5]))\n"
   ]
  },
  {
   "cell_type": "code",
   "execution_count": 191,
   "metadata": {},
   "outputs": [
    {
     "name": "stdout",
     "output_type": "stream",
     "text": [
      "tensor([[-0.0019, -0.0048, -0.0200,  ...,  0.0054, -0.0365, -0.0041],\n",
      "        [-0.0225, -0.0056, -0.0150,  ..., -0.0232,  0.0123,  0.0215],\n",
      "        [ 0.0169,  0.0312,  0.0036,  ..., -0.0369, -0.0118, -0.0218],\n",
      "        ...,\n",
      "        [-0.0289,  0.0152,  0.0316,  ..., -0.0025, -0.0054,  0.0261],\n",
      "        [-0.0193,  0.0013,  0.0123,  ..., -0.0123,  0.0292,  0.0317],\n",
      "        [ 0.0355,  0.0280,  0.0130,  ...,  0.0309,  0.0246, -0.0139]])\n",
      "tensor([ 3.2550e-02,  2.7406e-02, -9.5288e-03, -2.5414e-02, -2.9443e-02,\n",
      "         6.2944e-03,  5.7476e-03, -1.1755e-02, -4.8443e-04,  1.6004e-02,\n",
      "        -6.3059e-03,  3.5220e-02, -6.5203e-03, -7.8096e-03, -1.6373e-02,\n",
      "         1.6292e-02,  3.3308e-02,  1.8964e-02, -8.8603e-03,  6.2279e-03,\n",
      "        -2.5987e-02,  2.3914e-02,  1.3146e-02,  1.8537e-02,  2.2966e-02,\n",
      "        -2.0079e-02,  1.7729e-02, -1.3092e-02, -2.8327e-02,  6.3445e-03,\n",
      "         2.1601e-02,  8.3335e-03, -1.9455e-02,  1.4195e-03,  9.3175e-03,\n",
      "         2.4311e-02, -3.5179e-02, -2.1400e-02,  1.5771e-02, -6.1271e-03,\n",
      "         1.5238e-02,  1.7509e-02, -1.0765e-02,  1.6308e-03,  3.3159e-02,\n",
      "        -3.8771e-03, -2.9623e-03, -1.7639e-02,  2.3089e-02,  1.2535e-02,\n",
      "         5.3991e-04, -2.6165e-02, -1.2795e-02, -2.9709e-03, -1.5972e-03,\n",
      "         1.3316e-02, -2.7344e-02, -1.5861e-02, -2.4032e-02,  3.7245e-02,\n",
      "        -1.6767e-02, -1.4763e-02,  6.9875e-06, -1.2584e-02,  2.3733e-02,\n",
      "        -1.6334e-02, -8.0086e-03,  2.6680e-02,  1.4047e-03, -2.1926e-02,\n",
      "        -2.9940e-02,  1.8881e-02, -6.9791e-03,  2.1105e-02, -7.5412e-03,\n",
      "         2.1898e-02, -1.0982e-02, -1.3224e-02, -2.9392e-02,  3.1840e-03,\n",
      "        -1.3603e-02,  2.0976e-02,  2.2263e-02, -1.3580e-03,  1.4320e-02,\n",
      "         1.1756e-02, -2.3107e-02, -1.6943e-02, -2.9578e-02, -1.0212e-02,\n",
      "        -1.2587e-02, -2.4317e-02, -3.6878e-04, -2.6874e-04,  9.0578e-03,\n",
      "        -1.4603e-02,  3.1464e-02,  7.0084e-03, -1.6358e-02,  7.4849e-03,\n",
      "        -6.7606e-04, -1.9505e-02,  1.4653e-02, -1.5693e-02, -3.5104e-02,\n",
      "         1.5548e-02, -1.2233e-02,  2.2923e-02, -9.8898e-03,  8.3845e-04,\n",
      "         1.9582e-02, -6.6056e-03,  2.5826e-02,  3.5077e-02, -3.1488e-02,\n",
      "         3.4087e-02,  2.3014e-02, -3.0096e-02, -2.0343e-02, -5.6381e-03,\n",
      "        -2.2357e-04, -2.0526e-02, -1.0192e-02,  1.7687e-02, -1.7094e-02,\n",
      "        -1.3761e-02,  2.7842e-02, -2.8339e-02,  1.0056e-02,  3.1187e-02,\n",
      "         2.2563e-02,  2.7530e-02, -3.2054e-02, -2.0323e-03,  7.2581e-03,\n",
      "        -4.3289e-03,  1.7132e-02, -3.0419e-02, -1.0987e-04, -2.4880e-02,\n",
      "        -1.0402e-02,  1.4424e-02,  1.7510e-04,  1.1103e-02,  3.3311e-02,\n",
      "         1.4051e-02, -9.0750e-04,  1.8371e-02,  4.3306e-03, -2.6848e-02,\n",
      "         1.1553e-02, -1.1025e-02,  4.4759e-03,  4.9443e-03,  2.5802e-02,\n",
      "        -3.7658e-03, -2.0745e-02, -1.0879e-03,  8.1557e-03,  3.4971e-02,\n",
      "        -2.9019e-02, -2.4129e-02, -5.0057e-03,  4.8397e-03, -7.4449e-03,\n",
      "        -2.2584e-02,  2.1784e-02,  2.3562e-02,  6.7286e-04,  1.9279e-02,\n",
      "        -2.4244e-02,  1.0416e-03, -5.0723e-03, -1.1518e-02,  2.0977e-02,\n",
      "         1.6727e-02,  2.1037e-02, -1.6707e-02, -8.3031e-03,  4.8567e-03,\n",
      "         1.2173e-02,  7.2398e-03,  1.9955e-02, -1.3477e-02,  1.2651e-02,\n",
      "         2.6807e-02,  9.6055e-03,  6.2044e-03, -2.2520e-02,  3.5509e-02,\n",
      "        -1.4616e-02, -3.4781e-02, -1.4423e-02,  2.2947e-02, -3.8174e-03,\n",
      "         1.1314e-02,  3.3441e-02,  3.3319e-03,  9.2800e-03, -1.6906e-02,\n",
      "         5.5189e-03, -1.9004e-02, -2.4090e-02, -9.8107e-03,  3.1016e-02,\n",
      "        -3.1155e-02, -2.9384e-02,  2.2183e-02, -1.4625e-02,  2.0140e-03,\n",
      "         1.7296e-02, -2.1375e-02,  2.0722e-02,  3.2694e-03,  7.5607e-03,\n",
      "        -1.2486e-02,  7.5724e-04, -2.4832e-02, -3.6467e-02,  2.3408e-02,\n",
      "        -6.0328e-03, -5.4195e-03, -1.8571e-02, -9.6148e-03,  6.2136e-03,\n",
      "        -1.0355e-02, -9.3177e-03, -1.0222e-02, -8.0664e-03,  3.5077e-02,\n",
      "         2.9091e-02,  2.4399e-02, -8.6472e-03, -1.4140e-02, -3.0684e-02,\n",
      "         8.1212e-03,  3.1022e-02,  3.2988e-02,  1.9078e-02, -1.5608e-02,\n",
      "         3.2538e-02,  2.5720e-02,  1.9655e-02,  6.5804e-03,  1.5370e-02,\n",
      "        -8.6096e-03, -1.4222e-02,  3.4936e-02, -2.6633e-02, -2.6819e-02,\n",
      "         2.8284e-02, -3.2781e-03,  3.3958e-02,  1.8785e-02, -2.6659e-02,\n",
      "         3.5384e-02])\n",
      "tensor([[ 0.0309, -0.0373, -0.0524,  ...,  0.0017, -0.0689,  0.0049],\n",
      "        [ 0.0632,  0.0737, -0.0050,  ...,  0.0358, -0.0380,  0.0491],\n",
      "        [-0.0452, -0.0334, -0.0406,  ...,  0.0229, -0.0082,  0.0074],\n",
      "        ...,\n",
      "        [ 0.0024, -0.0580, -0.0353,  ...,  0.0389, -0.0174, -0.0353],\n",
      "        [ 0.0209, -0.0282, -0.0369,  ..., -0.0377,  0.0206, -0.0362],\n",
      "        [ 0.0703,  0.0154,  0.0615,  ..., -0.0311, -0.0304,  0.0292]])\n",
      "tensor([ 0.0039,  0.0038, -0.0321, -0.0181,  0.0228, -0.0541,  0.0228,  0.0377,\n",
      "         0.0250,  0.0548,  0.0029,  0.0310,  0.0561,  0.0005,  0.0279, -0.0043,\n",
      "        -0.0081,  0.0335,  0.0323, -0.0473, -0.0191, -0.0394,  0.0303,  0.0559,\n",
      "        -0.0026,  0.0724, -0.0529, -0.0383,  0.0072, -0.0222,  0.0605,  0.0223,\n",
      "         0.0704,  0.0153, -0.0323,  0.0494,  0.0238,  0.0249, -0.0378,  0.0237,\n",
      "        -0.0306, -0.0120, -0.0251, -0.0108,  0.0013,  0.0550,  0.0244, -0.0042,\n",
      "         0.0686, -0.0178,  0.0316, -0.0187, -0.0454,  0.0719, -0.0332,  0.0454,\n",
      "        -0.0296, -0.0302,  0.0135,  0.0514, -0.0432,  0.0224,  0.0253, -0.0048])\n",
      "tensor([[ 1.9009e-02, -1.8851e-01,  8.5851e-02,  1.9512e-01, -2.1663e-01,\n",
      "          3.8672e-02, -2.7996e-01,  1.3772e-01, -1.7800e-01,  7.0724e-02,\n",
      "          3.3515e-03,  1.5181e-01, -9.3986e-02, -1.2029e-01,  2.0836e-01,\n",
      "         -4.3873e-02,  1.2076e-01, -9.0895e-03,  3.0585e-02,  1.1664e-01,\n",
      "          2.3053e-01,  9.4314e-03, -3.4719e-02,  1.1052e-01,  5.5585e-02,\n",
      "         -1.2625e-01,  5.2549e-02, -8.1516e-02, -7.8525e-02, -2.5521e-01,\n",
      "         -2.0866e-01, -7.9395e-02,  1.6612e-01, -2.8903e-01,  2.1227e-01,\n",
      "          6.4656e-02,  3.2021e-02, -2.0857e-02, -3.5312e-02,  2.0431e-01,\n",
      "         -6.5876e-02, -1.6723e-01,  1.0910e-01, -9.1332e-02, -2.8212e-02,\n",
      "          1.1517e-01,  2.0364e-01, -5.6715e-02, -1.2730e-01,  6.5668e-02,\n",
      "         -1.7405e-01, -1.5291e-01, -2.1066e-01,  1.2099e-01,  2.2789e-01,\n",
      "         -7.7242e-02, -2.4259e-01,  1.5808e-01, -4.0971e-02,  6.4363e-02,\n",
      "         -1.5185e-01,  8.0666e-03,  3.0530e-01,  1.2940e-01],\n",
      "        [-5.7203e-02,  1.2349e-01, -5.6583e-02,  1.3659e-01, -1.0885e-01,\n",
      "         -1.0561e-01,  2.8187e-01,  1.0774e-01,  8.4902e-02, -6.5783e-02,\n",
      "         -2.0318e-01,  5.7210e-03,  2.2555e-01,  1.2691e-01, -2.8148e-01,\n",
      "          8.3732e-02,  9.8183e-04, -2.4591e-01, -7.8756e-02,  1.4273e-02,\n",
      "         -2.3383e-01,  2.0128e-02,  1.2129e-01, -5.5713e-02,  3.0644e-02,\n",
      "         -2.4057e-01,  3.7001e-02,  1.4454e-01, -1.8142e-02,  2.0483e-01,\n",
      "          2.3531e-01,  4.4748e-02,  2.2018e-01,  2.3068e-01, -3.8584e-02,\n",
      "         -1.0951e-01,  1.0022e-01,  1.2697e-01, -5.2012e-02, -2.3165e-01,\n",
      "          1.2233e-01,  2.2271e-02,  1.1968e-01,  8.5893e-02, -1.6994e-02,\n",
      "         -2.6123e-02, -2.7713e-01,  3.4279e-02, -4.3022e-03,  6.1728e-02,\n",
      "         -2.0795e-01,  3.3714e-02, -3.8304e-03, -1.7062e-01, -2.1021e-01,\n",
      "         -1.2246e-01, -7.0687e-02, -3.1069e-02, -1.2903e-01,  9.5120e-02,\n",
      "         -2.7740e-02,  2.2682e-01, -1.5981e-01,  3.5623e-02],\n",
      "        [ 2.0462e-01, -9.2089e-02,  1.8681e-01, -2.4579e-01,  1.7174e-01,\n",
      "          7.2639e-02,  1.7897e-01,  1.3431e-01,  1.9123e-01, -4.1802e-02,\n",
      "          5.2308e-02,  1.4618e-01,  2.5852e-03,  7.5725e-02,  9.7478e-02,\n",
      "          6.5821e-02,  1.2241e-01, -5.4795e-02, -7.6359e-02, -1.2956e-01,\n",
      "         -9.3059e-02, -6.4680e-03, -1.2315e-01,  4.0287e-02, -5.5454e-02,\n",
      "          7.0739e-02,  5.4069e-02,  2.2403e-02, -4.6048e-02,  8.4011e-02,\n",
      "         -5.8312e-02,  1.8495e-01,  2.7627e-01, -2.5455e-02,  1.1564e-01,\n",
      "          9.5694e-02, -9.0179e-02, -1.2039e-01, -1.3486e-01,  2.3705e-01,\n",
      "         -1.4091e-01,  2.5620e-01, -1.0943e-01,  6.8123e-02, -8.8654e-02,\n",
      "         -7.7684e-02,  1.9487e-01, -1.2127e-01, -6.2515e-03,  1.0295e-01,\n",
      "         -6.8963e-02, -8.7592e-03, -2.4474e-01, -3.5677e-03, -6.3204e-02,\n",
      "         -1.9589e-01, -1.9355e-01, -3.7235e-02,  2.4137e-02, -6.2942e-02,\n",
      "          1.4615e-01,  2.4325e-01, -1.5471e-02, -9.7067e-02],\n",
      "        [-8.9300e-02, -1.0561e-01, -9.3185e-02,  1.9333e-01,  9.2934e-02,\n",
      "          1.0736e-01, -1.5975e-01, -9.7596e-02,  1.8926e-01,  1.2419e-01,\n",
      "         -1.0762e-01,  1.3702e-01,  1.0058e-01,  8.9024e-03,  1.3429e-01,\n",
      "          3.5466e-02, -8.7690e-02,  1.2736e-01, -6.4200e-02,  1.0415e-01,\n",
      "         -2.4295e-01, -4.3971e-02, -1.8476e-01, -3.9901e-02, -4.6960e-02,\n",
      "         -5.9000e-02,  1.8015e-01,  5.0414e-02, -2.7277e-01,  1.4035e-01,\n",
      "         -3.5870e-02, -4.1072e-03,  8.2300e-02,  1.6517e-01,  1.2983e-01,\n",
      "         -1.1892e-01, -1.0694e-01,  2.0411e-01, -6.5479e-02, -1.4088e-01,\n",
      "         -6.7106e-02,  2.0688e-01,  1.0138e-02, -1.2110e-01,  1.0894e-01,\n",
      "         -9.7440e-02,  2.3249e-01, -2.0597e-04,  1.9548e-01, -1.8841e-02,\n",
      "         -1.1526e-01,  4.7912e-02, -6.5966e-02,  9.8704e-02,  1.7201e-01,\n",
      "         -1.0187e-01, -1.8696e-02, -1.1506e-01,  8.5794e-02, -3.2706e-02,\n",
      "         -7.8542e-02, -1.5057e-01, -1.2841e-01, -1.2272e-01],\n",
      "        [ 2.5059e-01, -8.7751e-02,  6.5964e-02, -1.3274e-01,  7.1788e-02,\n",
      "         -7.2784e-02, -8.8011e-02,  7.5125e-02, -2.1028e-01,  7.3030e-02,\n",
      "         -8.2031e-02, -3.4437e-02, -1.0608e-01, -4.2766e-02, -5.0578e-02,\n",
      "          3.7649e-02,  2.2291e-02,  6.9034e-03, -9.7188e-02, -2.2050e-01,\n",
      "          1.6302e-01,  4.2928e-02, -5.5477e-03,  5.9293e-02,  4.7693e-02,\n",
      "          1.6411e-01, -1.6141e-01, -9.7896e-02,  2.2589e-01, -4.2990e-02,\n",
      "         -1.4541e-01, -9.8393e-02, -2.6767e-01, -6.8022e-02, -4.1292e-02,\n",
      "          1.3184e-03,  3.4844e-02, -1.5636e-01, -1.4128e-02,  8.6569e-02,\n",
      "         -2.3612e-02, -1.9756e-01,  1.1445e-01,  1.8782e-01,  7.6764e-02,\n",
      "          8.6523e-02, -6.7970e-02, -1.1819e-01,  1.5958e-01, -6.0675e-02,\n",
      "          1.9548e-01,  4.8624e-03,  2.9915e-01, -2.0100e-02, -2.4805e-01,\n",
      "          2.6815e-01,  1.7625e-01, -1.6068e-01,  2.2163e-01, -8.5673e-02,\n",
      "          1.3695e-01, -6.2759e-03, -1.1381e-01, -2.9984e-02],\n",
      "        [-6.4408e-02,  2.2081e-01, -2.0087e-02,  2.4494e-01, -1.9905e-01,\n",
      "          1.1703e-01, -2.9541e-02, -2.0322e-01, -1.3922e-01,  1.1623e-01,\n",
      "          8.6405e-02, -4.4217e-02, -9.7309e-02, -1.1536e-01,  1.3462e-01,\n",
      "          2.3955e-02, -1.0761e-01,  5.2777e-02, -4.7910e-02,  8.0676e-02,\n",
      "          1.1510e-01,  7.9436e-02, -1.4142e-01, -1.4281e-01, -2.9631e-03,\n",
      "          1.8019e-02,  1.9981e-01,  1.1426e-01,  1.8317e-01,  1.0755e-01,\n",
      "          4.5348e-02, -6.5880e-02,  2.0347e-02, -4.9558e-02, -4.6772e-02,\n",
      "          9.6551e-02,  1.2187e-01, -8.8903e-02,  9.4899e-02,  3.6093e-02,\n",
      "          7.6127e-02, -1.2908e-01, -1.0118e-01, -2.0513e-01, -7.4682e-02,\n",
      "          1.1014e-01,  5.3368e-02, -8.1976e-03,  2.3870e-01,  1.1575e-01,\n",
      "         -1.8956e-01, -2.4032e-02,  1.2502e-01, -5.9917e-02,  2.6658e-01,\n",
      "          4.1700e-02,  6.0411e-03,  5.8726e-02,  1.8459e-02, -1.1584e-01,\n",
      "          2.5698e-02,  1.6148e-02,  1.5380e-01,  5.3744e-02],\n",
      "        [ 3.0942e-01, -5.7350e-02,  1.6489e-01,  6.9962e-02,  3.5391e-02,\n",
      "          9.3757e-02,  2.0427e-01, -9.5291e-02, -1.0902e-01,  1.6946e-02,\n",
      "          1.4872e-01, -1.2259e-01, -1.5840e-01, -6.3836e-02,  1.3675e-02,\n",
      "         -8.1607e-03,  3.4293e-03,  7.3089e-02,  6.3759e-02, -1.7152e-01,\n",
      "         -1.8564e-02,  5.3040e-02,  1.5555e-01,  1.7506e-01,  1.9120e-02,\n",
      "         -1.3717e-01,  1.9647e-02, -2.1958e-01,  2.3344e-01, -2.6561e-01,\n",
      "          1.4512e-01, -9.7625e-02,  1.4273e-01, -7.1911e-02, -2.9158e-01,\n",
      "         -2.6177e-02, -9.5432e-02, -2.2094e-01,  1.3733e-02,  2.1131e-01,\n",
      "          9.9113e-02, -9.8155e-02,  5.4249e-02, -1.1897e-01,  3.7586e-02,\n",
      "          1.1097e-01, -2.2528e-01, -5.3830e-02, -2.2268e-01, -6.0167e-02,\n",
      "         -2.0371e-01,  1.7153e-01, -2.4888e-01,  4.9268e-02, -3.1406e-02,\n",
      "         -4.7422e-03,  1.2923e-01,  8.2085e-02,  2.2143e-01, -7.9075e-03,\n",
      "          1.5719e-01, -3.1049e-02,  1.3133e-01, -1.1220e-01],\n",
      "        [-7.5395e-02,  4.2605e-02, -1.8085e-01,  1.5952e-01, -1.1293e-01,\n",
      "         -7.6358e-02, -1.7304e-01, -3.1922e-02,  1.7845e-01,  1.7298e-02,\n",
      "         -1.2778e-01,  1.0507e-01, -9.8831e-02, -2.2925e-02,  4.9687e-02,\n",
      "          3.7444e-02, -8.1604e-02, -3.5266e-01, -8.8500e-02,  8.3742e-02,\n",
      "          2.1311e-01,  1.5229e-02,  1.9624e-01,  8.8241e-02,  5.8382e-02,\n",
      "          1.2722e-01, -1.0255e-01,  1.1050e-01, -3.2415e-01,  9.9511e-02,\n",
      "          1.2686e-01, -3.9132e-02, -1.1403e-01, -2.9199e-02,  1.6998e-01,\n",
      "         -2.6863e-02,  1.0910e-01,  2.5245e-01,  8.1354e-03, -7.1725e-02,\n",
      "         -1.5232e-01,  1.6425e-01, -2.0036e-02,  2.5639e-01,  1.1402e-01,\n",
      "         -4.7241e-02,  4.8677e-02,  1.2199e-01, -1.6518e-01, -6.8267e-02,\n",
      "          1.6439e-01, -1.3911e-01,  2.4293e-02, -1.8436e-01, -2.2302e-01,\n",
      "          2.2877e-01,  1.4221e-01,  1.0324e-01, -2.9157e-01,  1.5727e-02,\n",
      "         -5.7303e-03, -5.1199e-02,  1.3539e-01,  8.3052e-02],\n",
      "        [-2.1682e-01,  1.7653e-01,  1.0053e-01, -2.2087e-01, -9.9755e-02,\n",
      "          8.0252e-02,  3.9374e-02,  2.0912e-01,  1.0391e-02, -3.5903e-02,\n",
      "          2.3330e-01, -6.5847e-02, -2.0143e-02, -7.3602e-02, -1.6689e-01,\n",
      "          4.3278e-02,  7.7271e-03,  1.4717e-01,  1.2362e-01,  1.4986e-01,\n",
      "          3.6428e-02, -5.8913e-02,  7.0580e-02, -1.6840e-01, -7.7433e-02,\n",
      "         -3.4242e-03, -1.0445e-01, -1.9775e-01,  3.5932e-02,  1.9390e-01,\n",
      "          1.6315e-01,  6.5547e-02, -8.1635e-02,  1.8943e-01,  9.2894e-02,\n",
      "         -3.0520e-02, -8.6027e-02,  8.7679e-02, -1.0016e-01,  7.4702e-02,\n",
      "          1.0104e-01, -2.9627e-02, -2.1293e-02, -2.7393e-01, -7.2008e-03,\n",
      "         -5.8821e-02, -1.0864e-01, -6.8424e-02,  1.3237e-01,  6.4483e-02,\n",
      "          7.7478e-02, -4.3489e-02,  6.6570e-02,  5.8365e-02,  1.6961e-01,\n",
      "         -1.5920e-01,  3.9573e-02, -2.0286e-01,  2.4060e-01,  1.2441e-01,\n",
      "         -6.5613e-02, -5.0762e-02, -1.8637e-01, -9.9190e-02],\n",
      "        [ 1.2188e-01,  5.7824e-03, -1.3637e-01, -1.5118e-01,  1.8930e-01,\n",
      "         -9.9787e-02, -2.3182e-01,  1.2716e-01, -7.8854e-02,  4.4240e-02,\n",
      "          1.7916e-01, -9.9859e-02, -1.4042e-01,  6.0967e-02, -1.6107e-01,\n",
      "          1.1616e-01,  6.4233e-02, -6.2922e-02, -3.5683e-02, -6.8271e-02,\n",
      "          1.9853e-01, -8.7095e-02,  1.3287e-01, -9.4271e-02, -8.1004e-02,\n",
      "          2.1445e-01, -3.7329e-02,  1.3989e-01, -1.7139e-01, -1.4722e-02,\n",
      "          1.6276e-01, -1.1220e-01, -1.9196e-01, -1.9494e-02, -4.3088e-02,\n",
      "         -7.6902e-02,  3.4330e-02,  1.4103e-01,  1.1778e-01, -1.5736e-01,\n",
      "          9.2142e-02, -7.2087e-02,  1.7974e-02, -1.3506e-02, -7.2053e-02,\n",
      "         -4.5652e-02,  1.2786e-01, -8.8127e-02,  1.0511e-01, -3.2685e-02,\n",
      "          2.4846e-01,  4.2643e-02,  1.9961e-01, -6.5008e-02, -1.2699e-01,\n",
      "          1.9270e-01,  1.4231e-01,  1.0673e-01,  2.3258e-02, -9.7840e-02,\n",
      "         -3.8725e-02, -4.7333e-02, -4.9642e-02,  5.4239e-02]])\n",
      "tensor([-0.0046,  0.0798, -0.0806,  0.0761, -0.0315,  0.1639, -0.0801, -0.0426,\n",
      "        -0.0653,  0.0535])\n"
     ]
    }
   ],
   "source": [
    "# weights and biases\n",
    "for param in model.parameters():\n",
    "    print (param.data)"
   ]
  },
  {
   "cell_type": "code",
   "execution_count": null,
   "metadata": {},
   "outputs": [],
   "source": []
  }
 ],
 "metadata": {
  "kernelspec": {
   "display_name": "Python (pytorch)",
   "language": "python",
   "name": "test_env"
  },
  "language_info": {
   "codemirror_mode": {
    "name": "ipython",
    "version": 3
   },
   "file_extension": ".py",
   "mimetype": "text/x-python",
   "name": "python",
   "nbconvert_exporter": "python",
   "pygments_lexer": "ipython3",
   "version": "3.7.6"
  }
 },
 "nbformat": 4,
 "nbformat_minor": 2
}
