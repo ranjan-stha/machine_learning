{
 "cells": [
  {
   "cell_type": "markdown",
   "metadata": {},
   "source": [
    "# Customer Segmentation using Clustering Algorithms"
   ]
  },
  {
   "cell_type": "markdown",
   "metadata": {},
   "source": [
    "#### In this notebook, we want to first estimate appropriate number of clusters of customers and analyze on the basis of various features along with the use of optimum number of clusteres. Then, we would like to find out the targeted cluster/group. For this, we will use KMeans and Hierarchial clustering algorithms. The dataset has a number of features and we shall study the customers' expenditure habits."
   ]
  },
  {
   "cell_type": "code",
   "execution_count": null,
   "metadata": {},
   "outputs": [],
   "source": [
    "__author__ = 'rsh'"
   ]
  },
  {
   "cell_type": "code",
   "execution_count": null,
   "metadata": {},
   "outputs": [],
   "source": [
    "import pandas as pd\n",
    "import numpy as np\n",
    "\n",
    "import matplotlib.pyplot as plt\n",
    "%matplotlib inline"
   ]
  },
  {
   "cell_type": "code",
   "execution_count": null,
   "metadata": {},
   "outputs": [],
   "source": [
    "# Get the customer mall data\n",
    "\n",
    "df = pd.read_csv('./mall_customers.csv')"
   ]
  },
  {
   "cell_type": "code",
   "execution_count": null,
   "metadata": {},
   "outputs": [],
   "source": [
    "print ('Shape of the dataset {}'.format(df.shape))\n",
    "df.head(10)"
   ]
  },
  {
   "cell_type": "code",
   "execution_count": null,
   "metadata": {},
   "outputs": [],
   "source": [
    "columns = ['id', 'gender', 'age', 'annual_income', 'spending_score']\n",
    "col_dict = {}\n",
    "\n",
    "for key, val in zip(df.columns.values, columns):\n",
    "    col_dict[key] = val\n",
    "\n",
    "df.rename(columns=col_dict, inplace=True)"
   ]
  },
  {
   "cell_type": "code",
   "execution_count": null,
   "metadata": {},
   "outputs": [],
   "source": [
    "df.columns"
   ]
  },
  {
   "cell_type": "code",
   "execution_count": null,
   "metadata": {},
   "outputs": [],
   "source": [
    "df.tail()"
   ]
  },
  {
   "cell_type": "code",
   "execution_count": null,
   "metadata": {},
   "outputs": [],
   "source": [
    "# Plots of Age ad Spending score distributions\n",
    "plt.subplots(1, 3, figsize=(20, 5))\n",
    "plt.subplot(1, 2, 1)\n",
    "plt.hist(df.age)\n",
    "plt.title('Age Distribution')\n",
    "plt.xlabel('Age')\n",
    "plt.ylabel('Count')\n",
    "\n",
    "plt.subplot(1,2,2)\n",
    "plt.hist(df.spending_score)\n",
    "plt.title('Spending Score Distribution')\n",
    "plt.xlabel('Spending score')\n",
    "plt.ylabel('Count')\n",
    "plt.show()"
   ]
  },
  {
   "cell_type": "code",
   "execution_count": null,
   "metadata": {},
   "outputs": [],
   "source": [
    "# Count the gender type\n",
    "print (df.gender.value_counts())\n",
    "#gender_data \n",
    "plt.bar(['Female', 'Male'], df.gender.value_counts().values)\n",
    "plt.title('Gender distribution')\n",
    "plt.xlabel('Gender')\n",
    "plt.ylabel('Counts')\n",
    "plt.show()"
   ]
  },
  {
   "cell_type": "code",
   "execution_count": null,
   "metadata": {},
   "outputs": [],
   "source": [
    "# Age vs Spending Score\n",
    "plt.subplots(1, 3, figsize=(20, 5))\n",
    "plt.subplot(1, 3, 1)\n",
    "plt.scatter(df.age, df.spending_score)\n",
    "plt.title('Age vs Spending Score')\n",
    "plt.xlabel('Age')\n",
    "plt.ylabel('Spending Score')\n",
    "\n",
    "plt.subplot(1, 3, 2)\n",
    "plt.scatter(df.age, df.annual_income)\n",
    "plt.title('Age vs Annual Income')\n",
    "plt.xlabel('Age')\n",
    "plt.ylabel('Annual Income')\n",
    "\n",
    "plt.subplot(1, 3, 3)\n",
    "plt.scatter(df.annual_income, df.spending_score)\n",
    "plt.title('Annual Income vs Spending Score')\n",
    "plt.xlabel('Annual Income')\n",
    "plt.ylabel('Spending Score')\n",
    "\n",
    "plt.show()"
   ]
  },
  {
   "cell_type": "code",
   "execution_count": null,
   "metadata": {},
   "outputs": [],
   "source": [
    "# Analyzing Annual Income vs Spending Score\n",
    "col1_index = 3\n",
    "col2_index = 4\n",
    "data = df.iloc[:, [col1_index, col2_index]] # Annual Income vs Spending Score\n",
    "data.shape"
   ]
  },
  {
   "cell_type": "code",
   "execution_count": null,
   "metadata": {},
   "outputs": [],
   "source": [
    "from sklearn.cluster import KMeans\n",
    "\n",
    "wcss = []\n",
    "for i in range(1, 11):\n",
    "    classifier = KMeans(n_clusters=i, random_state=101)\n",
    "    classifier.fit(data)\n",
    "    wcss.append(classifier.inertia_)"
   ]
  },
  {
   "cell_type": "code",
   "execution_count": null,
   "metadata": {},
   "outputs": [],
   "source": [
    "# Elbow Method\n",
    "plt.plot(range(1, 11), wcss)\n",
    "plt.title('The Elbow Method')\n",
    "plt.xlabel('Number of Clusters')\n",
    "plt.ylabel('wcss')\n",
    "plt.show()"
   ]
  },
  {
   "cell_type": "markdown",
   "metadata": {},
   "source": [
    "#### Based on Elbow method, it is found that number of clusters = 5 is the best option"
   ]
  },
  {
   "cell_type": "code",
   "execution_count": null,
   "metadata": {},
   "outputs": [],
   "source": [
    "# Using number of clusters = 5 in the KMeans algorithm\n",
    "clusterModel = KMeans(n_clusters = 5, random_state=101)\n",
    "y_means = clusterModel.fit_predict(data)\n",
    "\n",
    "print (y_means)\n",
    "\n",
    "print (clusterModel.cluster_centers_)"
   ]
  },
  {
   "cell_type": "code",
   "execution_count": null,
   "metadata": {
    "scrolled": true
   },
   "outputs": [],
   "source": [
    "plt.figure(figsize=(12,5))\n",
    "plt.scatter(data.values[y_means == 0, 0], data.values[y_means == 0, 1], s = 100, c = 'purple', label = 'category1')\n",
    "plt.scatter(data.values[y_means == 1, 0], data.values[y_means == 1, 1], s = 100, c = 'blue', label = 'category2')\n",
    "plt.scatter(data.values[y_means == 2, 0], data.values[y_means == 2, 1], s = 100, c = 'red', label = 'category3')\n",
    "plt.scatter(data.values[y_means == 3, 0], data.values[y_means == 3, 1], s = 100, c = 'green', label = 'category4')\n",
    "plt.scatter(data.values[y_means == 4, 0], data.values[y_means == 4, 1], s = 100, c = 'orange', label = 'category5')\n",
    "plt.scatter(clusterModel.cluster_centers_[:,0], clusterModel.cluster_centers_[:, 1], s = 250, c = 'black' , label = 'centeroid')\n",
    "\n",
    "plt.title('Segmentation using KMeans Clustering (Annual Income vs Spending Score)')\n",
    "plt.xlabel(df.columns[col1_index])\n",
    "plt.ylabel(df.columns[col2_index])\n",
    "plt.legend()\n",
    "plt.show()"
   ]
  },
  {
   "cell_type": "markdown",
   "metadata": {},
   "source": [
    "## Clustering using Hierarchial Clustering Algorithm"
   ]
  },
  {
   "cell_type": "code",
   "execution_count": null,
   "metadata": {},
   "outputs": [],
   "source": [
    "import scipy.cluster.hierarchy as sch"
   ]
  },
  {
   "cell_type": "code",
   "execution_count": null,
   "metadata": {},
   "outputs": [],
   "source": [
    "dgram = sch.dendrogram(sch.linkage(data.values, method='ward'))\n",
    "\n",
    "plt.title('Dendogram')\n",
    "plt.xlabel('Clusters')\n",
    "plt.ylabel('Distance')\n",
    "plt.show()"
   ]
  },
  {
   "cell_type": "code",
   "execution_count": null,
   "metadata": {},
   "outputs": [],
   "source": [
    "from sklearn.cluster import AgglomerativeClustering\n",
    "\n",
    "cluster = AgglomerativeClustering(n_clusters=5, affinity='euclidean', linkage='ward')\n",
    "cluster.fit_predict(data)"
   ]
  },
  {
   "cell_type": "code",
   "execution_count": null,
   "metadata": {},
   "outputs": [],
   "source": [
    "plt.figure(figsize=(10, 6))\n",
    "plt.scatter(data.values[:, 0], data.values[:, 1], c=cluster.labels_, cmap='rainbow')\n",
    "\n",
    "plt.xlabel(df.columns[col1_index])\n",
    "plt.ylabel(df.columns[col2_index])\n",
    "\n",
    "plt.title('Customer Segmentation using Agglomerative Clustering')\n",
    "plt.show()"
   ]
  },
  {
   "cell_type": "code",
   "execution_count": null,
   "metadata": {},
   "outputs": [],
   "source": []
  }
 ],
 "metadata": {
  "kernelspec": {
   "display_name": "Python 3",
   "language": "python",
   "name": "python3"
  },
  "language_info": {
   "codemirror_mode": {
    "name": "ipython",
    "version": 3
   },
   "file_extension": ".py",
   "mimetype": "text/x-python",
   "name": "python",
   "nbconvert_exporter": "python",
   "pygments_lexer": "ipython3",
   "version": "3.7.1"
  }
 },
 "nbformat": 4,
 "nbformat_minor": 2
}
